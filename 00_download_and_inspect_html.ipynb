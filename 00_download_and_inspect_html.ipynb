{
 "cells": [
  {
   "cell_type": "code",
   "execution_count": null,
   "metadata": {},
   "outputs": [],
   "source": [
    "# 1. Download raw HTML from the menu page\n",
    "import requests\n",
    "from pathlib import Path\n",
    "from bs4 import BeautifulSoup\n",
    "\n",
    "url = \"https://www.nococinomas.es/oc1/allproducts-prn.php\"\n",
    "output_path = Path(\"data/raw.html\")\n",
    "output_path.parent.mkdir(parents=True, exist_ok=True)\n",
    "\n",
    "response = requests.get(url)\n",
    "response.encoding = 'utf-8'\n",
    "\n",
    "if response.status_code != 200:\n",
    "    raise Exception(f\"Failed to fetch page. Status code: {response.status_code}\")\n",
    "\n",
    "# 2. Save locally for future reuse\n",
    "output_path.write_text(response.text, encoding=\"utf-8\")\n",
    "print(f\"✅ HTML saved at: {output_path.resolve()}\")\n",
    "\n",
    "# 3. Load and preview to understand structure\n",
    "html = response.text\n",
    "soup = BeautifulSoup(html, \"html.parser\")\n",
    "\n",
    "# 4. Print first few lines of visible content\n",
    "body_text = soup.body.get_text(separator=\"\\n\", strip=True)\n",
    "\n",
    "print(\"\\n🧾 First 1000 characters:\\n\")\n",
    "print(body_text[:1000])\n"
   ]
  }
 ],
 "metadata": {
  "kernelspec": {
   "display_name": "3.10.4",
   "language": "python",
   "name": "python3"
  },
  "language_info": {
   "name": "python",
   "version": "3.10.4"
  }
 },
 "nbformat": 4,
 "nbformat_minor": 2
}
