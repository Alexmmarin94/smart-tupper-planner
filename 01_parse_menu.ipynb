{
 "cells": [
  {
   "cell_type": "code",
   "execution_count": null,
   "metadata": {},
   "outputs": [],
   "source": [
    "# 1. Load local HTML and parse into structured data\n",
    "from pathlib import Path\n",
    "from utils.html_parser import extract_dishes_from_html\n",
    "\n",
    "html_path = Path(\"data/raw.html\")\n",
    "\n",
    "# 2. Run parser\n",
    "df = extract_dishes_from_html(html_path)\n",
    "print(f\"{len(df)} platos parseados.\")\n",
    "\n",
    "# 3. Preview sample\n",
    "df.head(10)\n"
   ]
  }
 ],
 "metadata": {
  "kernelspec": {
   "display_name": "3.10.4",
   "language": "python",
   "name": "python3"
  },
  "language_info": {
   "codemirror_mode": {
    "name": "ipython",
    "version": 3
   },
   "file_extension": ".py",
   "mimetype": "text/x-python",
   "name": "python",
   "nbconvert_exporter": "python",
   "pygments_lexer": "ipython3",
   "version": "3.10.4"
  }
 },
 "nbformat": 4,
 "nbformat_minor": 2
}
